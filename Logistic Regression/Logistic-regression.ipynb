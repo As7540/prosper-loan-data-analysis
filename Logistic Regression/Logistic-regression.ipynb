{
 "cells": [
  {
   "cell_type": "code",
   "execution_count": 1,
   "id": "91681da2",
   "metadata": {
    "_cell_guid": "b1076dfc-b9ad-4769-8c92-a6c4dae69d19",
    "_uuid": "8f2839f25d086af736a60e9eeb907d3b93b6e0e5",
    "execution": {
     "iopub.execute_input": "2022-07-30T15:28:59.329312Z",
     "iopub.status.busy": "2022-07-30T15:28:59.328813Z",
     "iopub.status.idle": "2022-07-30T15:29:00.989523Z",
     "shell.execute_reply": "2022-07-30T15:29:00.988115Z"
    },
    "papermill": {
     "duration": 1.673922,
     "end_time": "2022-07-30T15:29:00.992834",
     "exception": false,
     "start_time": "2022-07-30T15:28:59.318912",
     "status": "completed"
    },
    "tags": []
   },
   "outputs": [
    {
     "name": "stdout",
     "output_type": "stream",
     "text": [
      "Setup Complete\n"
     ]
    }
   ],
   "source": [
    "import numpy as np\n",
    "import pandas as pd\n",
    "import seaborn as sns\n",
    "import matplotlib.pyplot as plt\n",
    "from sklearn.model_selection import train_test_split\n",
    "from sklearn.linear_model import LogisticRegression\n",
    "from sklearn.metrics import confusion_matrix\n",
    "from sklearn.metrics import classification_report\n",
    "print(\"Setup Complete\")"
   ]
  },
  {
   "cell_type": "code",
   "execution_count": 2,
   "id": "f925f185",
   "metadata": {
    "execution": {
     "iopub.execute_input": "2022-07-30T15:29:01.010021Z",
     "iopub.status.busy": "2022-07-30T15:29:01.009219Z",
     "iopub.status.idle": "2022-07-30T15:29:04.106859Z",
     "shell.execute_reply": "2022-07-30T15:29:04.104516Z"
    },
    "papermill": {
     "duration": 3.108994,
     "end_time": "2022-07-30T15:29:04.109591",
     "exception": false,
     "start_time": "2022-07-30T15:29:01.000597",
     "status": "completed"
    },
    "tags": []
   },
   "outputs": [
    {
     "name": "stdout",
     "output_type": "stream",
     "text": [
      "Loding data Complete\n"
     ]
    }
   ],
   "source": [
    "#Importing the data base \n",
    "proposerloan_filepath = \"../input/prosper-loan/prosperLoanData.csv\"\n",
    "df = pd.read_csv(proposerloan_filepath)\n",
    "np.random.seed(0) \n",
    "print(\"Loding data Complete\")"
   ]
  },
  {
   "cell_type": "code",
   "execution_count": 3,
   "id": "4890ac0f",
   "metadata": {
    "execution": {
     "iopub.execute_input": "2022-07-30T15:29:04.125629Z",
     "iopub.status.busy": "2022-07-30T15:29:04.125234Z",
     "iopub.status.idle": "2022-07-30T15:29:04.153306Z",
     "shell.execute_reply": "2022-07-30T15:29:04.152116Z"
    },
    "papermill": {
     "duration": 0.039251,
     "end_time": "2022-07-30T15:29:04.156027",
     "exception": false,
     "start_time": "2022-07-30T15:29:04.116776",
     "status": "completed"
    },
    "tags": []
   },
   "outputs": [
    {
     "name": "stdout",
     "output_type": "stream",
     "text": [
      "                ListingKey  ListingNumber            ListingCreationDate  \\\n",
      "0  1021339766868145413AB3B         193129  2007-08-26 19:09:29.263000000   \n",
      "1  10273602499503308B223C1        1209647  2014-02-27 08:28:07.900000000   \n",
      "2  0EE9337825851032864889A          81716  2007-01-05 15:00:47.090000000   \n",
      "3  0EF5356002482715299901A         658116  2012-10-22 11:02:35.010000000   \n",
      "4  0F023589499656230C5E3E2         909464  2013-09-14 18:38:39.097000000   \n",
      "\n",
      "  CreditGrade  Term LoanStatus           ClosedDate  BorrowerAPR  \\\n",
      "0           C    36  Completed  2009-08-14 00:00:00      0.16516   \n",
      "1         NaN    36    Current                  NaN      0.12016   \n",
      "2          HR    36  Completed  2009-12-17 00:00:00      0.28269   \n",
      "3         NaN    36    Current                  NaN      0.12528   \n",
      "4         NaN    36    Current                  NaN      0.24614   \n",
      "\n",
      "   BorrowerRate  LenderYield  ...  LP_ServiceFees  LP_CollectionFees  \\\n",
      "0        0.1580       0.1380  ...         -133.18                0.0   \n",
      "1        0.0920       0.0820  ...            0.00                0.0   \n",
      "2        0.2750       0.2400  ...          -24.20                0.0   \n",
      "3        0.0974       0.0874  ...         -108.01                0.0   \n",
      "4        0.2085       0.1985  ...          -60.27                0.0   \n",
      "\n",
      "   LP_GrossPrincipalLoss  LP_NetPrincipalLoss LP_NonPrincipalRecoverypayments  \\\n",
      "0                    0.0                  0.0                             0.0   \n",
      "1                    0.0                  0.0                             0.0   \n",
      "2                    0.0                  0.0                             0.0   \n",
      "3                    0.0                  0.0                             0.0   \n",
      "4                    0.0                  0.0                             0.0   \n",
      "\n",
      "   PercentFunded  Recommendations InvestmentFromFriendsCount  \\\n",
      "0            1.0                0                          0   \n",
      "1            1.0                0                          0   \n",
      "2            1.0                0                          0   \n",
      "3            1.0                0                          0   \n",
      "4            1.0                0                          0   \n",
      "\n",
      "  InvestmentFromFriendsAmount Investors  \n",
      "0                         0.0       258  \n",
      "1                         0.0         1  \n",
      "2                         0.0        41  \n",
      "3                         0.0       158  \n",
      "4                         0.0        20  \n",
      "\n",
      "[5 rows x 81 columns]\n"
     ]
    }
   ],
   "source": [
    "print(df.head())\n"
   ]
  },
  {
   "cell_type": "code",
   "execution_count": 4,
   "id": "39bf903a",
   "metadata": {
    "execution": {
     "iopub.execute_input": "2022-07-30T15:29:04.174246Z",
     "iopub.status.busy": "2022-07-30T15:29:04.173147Z",
     "iopub.status.idle": "2022-07-30T15:29:04.410982Z",
     "shell.execute_reply": "2022-07-30T15:29:04.409866Z"
    },
    "papermill": {
     "duration": 0.250298,
     "end_time": "2022-07-30T15:29:04.414347",
     "exception": false,
     "start_time": "2022-07-30T15:29:04.164049",
     "status": "completed"
    },
    "tags": []
   },
   "outputs": [
    {
     "name": "stdout",
     "output_type": "stream",
     "text": [
      "<class 'pandas.core.frame.DataFrame'>\n",
      "RangeIndex: 113937 entries, 0 to 113936\n",
      "Data columns (total 81 columns):\n",
      " #   Column                               Non-Null Count   Dtype  \n",
      "---  ------                               --------------   -----  \n",
      " 0   ListingKey                           113937 non-null  object \n",
      " 1   ListingNumber                        113937 non-null  int64  \n",
      " 2   ListingCreationDate                  113937 non-null  object \n",
      " 3   CreditGrade                          28953 non-null   object \n",
      " 4   Term                                 113937 non-null  int64  \n",
      " 5   LoanStatus                           113937 non-null  object \n",
      " 6   ClosedDate                           55089 non-null   object \n",
      " 7   BorrowerAPR                          113912 non-null  float64\n",
      " 8   BorrowerRate                         113937 non-null  float64\n",
      " 9   LenderYield                          113937 non-null  float64\n",
      " 10  EstimatedEffectiveYield              84853 non-null   float64\n",
      " 11  EstimatedLoss                        84853 non-null   float64\n",
      " 12  EstimatedReturn                      84853 non-null   float64\n",
      " 13  ProsperRating (numeric)              84853 non-null   float64\n",
      " 14  ProsperRating (Alpha)                84853 non-null   object \n",
      " 15  ProsperScore                         84853 non-null   float64\n",
      " 16  ListingCategory (numeric)            113937 non-null  int64  \n",
      " 17  BorrowerState                        108422 non-null  object \n",
      " 18  Occupation                           110349 non-null  object \n",
      " 19  EmploymentStatus                     111682 non-null  object \n",
      " 20  EmploymentStatusDuration             106312 non-null  float64\n",
      " 21  IsBorrowerHomeowner                  113937 non-null  bool   \n",
      " 22  CurrentlyInGroup                     113937 non-null  bool   \n",
      " 23  GroupKey                             13341 non-null   object \n",
      " 24  DateCreditPulled                     113937 non-null  object \n",
      " 25  CreditScoreRangeLower                113346 non-null  float64\n",
      " 26  CreditScoreRangeUpper                113346 non-null  float64\n",
      " 27  FirstRecordedCreditLine              113240 non-null  object \n",
      " 28  CurrentCreditLines                   106333 non-null  float64\n",
      " 29  OpenCreditLines                      106333 non-null  float64\n",
      " 30  TotalCreditLinespast7years           113240 non-null  float64\n",
      " 31  OpenRevolvingAccounts                113937 non-null  int64  \n",
      " 32  OpenRevolvingMonthlyPayment          113937 non-null  float64\n",
      " 33  InquiriesLast6Months                 113240 non-null  float64\n",
      " 34  TotalInquiries                       112778 non-null  float64\n",
      " 35  CurrentDelinquencies                 113240 non-null  float64\n",
      " 36  AmountDelinquent                     106315 non-null  float64\n",
      " 37  DelinquenciesLast7Years              112947 non-null  float64\n",
      " 38  PublicRecordsLast10Years             113240 non-null  float64\n",
      " 39  PublicRecordsLast12Months            106333 non-null  float64\n",
      " 40  RevolvingCreditBalance               106333 non-null  float64\n",
      " 41  BankcardUtilization                  106333 non-null  float64\n",
      " 42  AvailableBankcardCredit              106393 non-null  float64\n",
      " 43  TotalTrades                          106393 non-null  float64\n",
      " 44  TradesNeverDelinquent (percentage)   106393 non-null  float64\n",
      " 45  TradesOpenedLast6Months              106393 non-null  float64\n",
      " 46  DebtToIncomeRatio                    105383 non-null  float64\n",
      " 47  IncomeRange                          113937 non-null  object \n",
      " 48  IncomeVerifiable                     113937 non-null  bool   \n",
      " 49  StatedMonthlyIncome                  113937 non-null  float64\n",
      " 50  LoanKey                              113937 non-null  object \n",
      " 51  TotalProsperLoans                    22085 non-null   float64\n",
      " 52  TotalProsperPaymentsBilled           22085 non-null   float64\n",
      " 53  OnTimeProsperPayments                22085 non-null   float64\n",
      " 54  ProsperPaymentsLessThanOneMonthLate  22085 non-null   float64\n",
      " 55  ProsperPaymentsOneMonthPlusLate      22085 non-null   float64\n",
      " 56  ProsperPrincipalBorrowed             22085 non-null   float64\n",
      " 57  ProsperPrincipalOutstanding          22085 non-null   float64\n",
      " 58  ScorexChangeAtTimeOfListing          18928 non-null   float64\n",
      " 59  LoanCurrentDaysDelinquent            113937 non-null  int64  \n",
      " 60  LoanFirstDefaultedCycleNumber        16952 non-null   float64\n",
      " 61  LoanMonthsSinceOrigination           113937 non-null  int64  \n",
      " 62  LoanNumber                           113937 non-null  int64  \n",
      " 63  LoanOriginalAmount                   113937 non-null  int64  \n",
      " 64  LoanOriginationDate                  113937 non-null  object \n",
      " 65  LoanOriginationQuarter               113937 non-null  object \n",
      " 66  MemberKey                            113937 non-null  object \n",
      " 67  MonthlyLoanPayment                   113937 non-null  float64\n",
      " 68  LP_CustomerPayments                  113937 non-null  float64\n",
      " 69  LP_CustomerPrincipalPayments         113937 non-null  float64\n",
      " 70  LP_InterestandFees                   113937 non-null  float64\n",
      " 71  LP_ServiceFees                       113937 non-null  float64\n",
      " 72  LP_CollectionFees                    113937 non-null  float64\n",
      " 73  LP_GrossPrincipalLoss                113937 non-null  float64\n",
      " 74  LP_NetPrincipalLoss                  113937 non-null  float64\n",
      " 75  LP_NonPrincipalRecoverypayments      113937 non-null  float64\n",
      " 76  PercentFunded                        113937 non-null  float64\n",
      " 77  Recommendations                      113937 non-null  int64  \n",
      " 78  InvestmentFromFriendsCount           113937 non-null  int64  \n",
      " 79  InvestmentFromFriendsAmount          113937 non-null  float64\n",
      " 80  Investors                            113937 non-null  int64  \n",
      "dtypes: bool(3), float64(50), int64(11), object(17)\n",
      "memory usage: 68.1+ MB\n",
      "None\n"
     ]
    }
   ],
   "source": [
    "print(df.info())"
   ]
  },
  {
   "cell_type": "code",
   "execution_count": 5,
   "id": "27e6a69f",
   "metadata": {
    "execution": {
     "iopub.execute_input": "2022-07-30T15:29:04.432940Z",
     "iopub.status.busy": "2022-07-30T15:29:04.431604Z",
     "iopub.status.idle": "2022-07-30T15:29:04.938133Z",
     "shell.execute_reply": "2022-07-30T15:29:04.937013Z"
    },
    "papermill": {
     "duration": 0.51848,
     "end_time": "2022-07-30T15:29:04.941065",
     "exception": false,
     "start_time": "2022-07-30T15:29:04.422585",
     "status": "completed"
    },
    "tags": []
   },
   "outputs": [
    {
     "data": {
      "text/html": [
       "<div>\n",
       "<style scoped>\n",
       "    .dataframe tbody tr th:only-of-type {\n",
       "        vertical-align: middle;\n",
       "    }\n",
       "\n",
       "    .dataframe tbody tr th {\n",
       "        vertical-align: top;\n",
       "    }\n",
       "\n",
       "    .dataframe thead th {\n",
       "        text-align: right;\n",
       "    }\n",
       "</style>\n",
       "<table border=\"1\" class=\"dataframe\">\n",
       "  <thead>\n",
       "    <tr style=\"text-align: right;\">\n",
       "      <th></th>\n",
       "      <th>ListingNumber</th>\n",
       "      <th>Term</th>\n",
       "      <th>BorrowerAPR</th>\n",
       "      <th>BorrowerRate</th>\n",
       "      <th>LenderYield</th>\n",
       "      <th>EstimatedEffectiveYield</th>\n",
       "      <th>EstimatedLoss</th>\n",
       "      <th>EstimatedReturn</th>\n",
       "      <th>ProsperRating (numeric)</th>\n",
       "      <th>ProsperScore</th>\n",
       "      <th>...</th>\n",
       "      <th>LP_ServiceFees</th>\n",
       "      <th>LP_CollectionFees</th>\n",
       "      <th>LP_GrossPrincipalLoss</th>\n",
       "      <th>LP_NetPrincipalLoss</th>\n",
       "      <th>LP_NonPrincipalRecoverypayments</th>\n",
       "      <th>PercentFunded</th>\n",
       "      <th>Recommendations</th>\n",
       "      <th>InvestmentFromFriendsCount</th>\n",
       "      <th>InvestmentFromFriendsAmount</th>\n",
       "      <th>Investors</th>\n",
       "    </tr>\n",
       "  </thead>\n",
       "  <tbody>\n",
       "    <tr>\n",
       "      <th>count</th>\n",
       "      <td>1.139370e+05</td>\n",
       "      <td>113937.000000</td>\n",
       "      <td>113912.000000</td>\n",
       "      <td>113937.000000</td>\n",
       "      <td>113937.000000</td>\n",
       "      <td>84853.000000</td>\n",
       "      <td>84853.000000</td>\n",
       "      <td>84853.000000</td>\n",
       "      <td>84853.000000</td>\n",
       "      <td>84853.000000</td>\n",
       "      <td>...</td>\n",
       "      <td>113937.000000</td>\n",
       "      <td>113937.000000</td>\n",
       "      <td>113937.000000</td>\n",
       "      <td>113937.000000</td>\n",
       "      <td>113937.000000</td>\n",
       "      <td>113937.000000</td>\n",
       "      <td>113937.000000</td>\n",
       "      <td>113937.000000</td>\n",
       "      <td>113937.000000</td>\n",
       "      <td>113937.000000</td>\n",
       "    </tr>\n",
       "    <tr>\n",
       "      <th>mean</th>\n",
       "      <td>6.278857e+05</td>\n",
       "      <td>40.830248</td>\n",
       "      <td>0.218828</td>\n",
       "      <td>0.192764</td>\n",
       "      <td>0.182701</td>\n",
       "      <td>0.168661</td>\n",
       "      <td>0.080306</td>\n",
       "      <td>0.096068</td>\n",
       "      <td>4.072243</td>\n",
       "      <td>5.950067</td>\n",
       "      <td>...</td>\n",
       "      <td>-54.725641</td>\n",
       "      <td>-14.242698</td>\n",
       "      <td>700.446342</td>\n",
       "      <td>681.420499</td>\n",
       "      <td>25.142686</td>\n",
       "      <td>0.998584</td>\n",
       "      <td>0.048027</td>\n",
       "      <td>0.023460</td>\n",
       "      <td>16.550751</td>\n",
       "      <td>80.475228</td>\n",
       "    </tr>\n",
       "    <tr>\n",
       "      <th>std</th>\n",
       "      <td>3.280762e+05</td>\n",
       "      <td>10.436212</td>\n",
       "      <td>0.080364</td>\n",
       "      <td>0.074818</td>\n",
       "      <td>0.074516</td>\n",
       "      <td>0.068467</td>\n",
       "      <td>0.046764</td>\n",
       "      <td>0.030403</td>\n",
       "      <td>1.673227</td>\n",
       "      <td>2.376501</td>\n",
       "      <td>...</td>\n",
       "      <td>60.675425</td>\n",
       "      <td>109.232758</td>\n",
       "      <td>2388.513831</td>\n",
       "      <td>2357.167068</td>\n",
       "      <td>275.657937</td>\n",
       "      <td>0.017919</td>\n",
       "      <td>0.332353</td>\n",
       "      <td>0.232412</td>\n",
       "      <td>294.545422</td>\n",
       "      <td>103.239020</td>\n",
       "    </tr>\n",
       "    <tr>\n",
       "      <th>min</th>\n",
       "      <td>4.000000e+00</td>\n",
       "      <td>12.000000</td>\n",
       "      <td>0.006530</td>\n",
       "      <td>0.000000</td>\n",
       "      <td>-0.010000</td>\n",
       "      <td>-0.182700</td>\n",
       "      <td>0.004900</td>\n",
       "      <td>-0.182700</td>\n",
       "      <td>1.000000</td>\n",
       "      <td>1.000000</td>\n",
       "      <td>...</td>\n",
       "      <td>-664.870000</td>\n",
       "      <td>-9274.750000</td>\n",
       "      <td>-94.200000</td>\n",
       "      <td>-954.550000</td>\n",
       "      <td>0.000000</td>\n",
       "      <td>0.700000</td>\n",
       "      <td>0.000000</td>\n",
       "      <td>0.000000</td>\n",
       "      <td>0.000000</td>\n",
       "      <td>1.000000</td>\n",
       "    </tr>\n",
       "    <tr>\n",
       "      <th>25%</th>\n",
       "      <td>4.009190e+05</td>\n",
       "      <td>36.000000</td>\n",
       "      <td>0.156290</td>\n",
       "      <td>0.134000</td>\n",
       "      <td>0.124200</td>\n",
       "      <td>0.115670</td>\n",
       "      <td>0.042400</td>\n",
       "      <td>0.074080</td>\n",
       "      <td>3.000000</td>\n",
       "      <td>4.000000</td>\n",
       "      <td>...</td>\n",
       "      <td>-73.180000</td>\n",
       "      <td>0.000000</td>\n",
       "      <td>0.000000</td>\n",
       "      <td>0.000000</td>\n",
       "      <td>0.000000</td>\n",
       "      <td>1.000000</td>\n",
       "      <td>0.000000</td>\n",
       "      <td>0.000000</td>\n",
       "      <td>0.000000</td>\n",
       "      <td>2.000000</td>\n",
       "    </tr>\n",
       "    <tr>\n",
       "      <th>50%</th>\n",
       "      <td>6.005540e+05</td>\n",
       "      <td>36.000000</td>\n",
       "      <td>0.209760</td>\n",
       "      <td>0.184000</td>\n",
       "      <td>0.173000</td>\n",
       "      <td>0.161500</td>\n",
       "      <td>0.072400</td>\n",
       "      <td>0.091700</td>\n",
       "      <td>4.000000</td>\n",
       "      <td>6.000000</td>\n",
       "      <td>...</td>\n",
       "      <td>-34.440000</td>\n",
       "      <td>0.000000</td>\n",
       "      <td>0.000000</td>\n",
       "      <td>0.000000</td>\n",
       "      <td>0.000000</td>\n",
       "      <td>1.000000</td>\n",
       "      <td>0.000000</td>\n",
       "      <td>0.000000</td>\n",
       "      <td>0.000000</td>\n",
       "      <td>44.000000</td>\n",
       "    </tr>\n",
       "    <tr>\n",
       "      <th>75%</th>\n",
       "      <td>8.926340e+05</td>\n",
       "      <td>36.000000</td>\n",
       "      <td>0.283810</td>\n",
       "      <td>0.250000</td>\n",
       "      <td>0.240000</td>\n",
       "      <td>0.224300</td>\n",
       "      <td>0.112000</td>\n",
       "      <td>0.116600</td>\n",
       "      <td>5.000000</td>\n",
       "      <td>8.000000</td>\n",
       "      <td>...</td>\n",
       "      <td>-13.920000</td>\n",
       "      <td>0.000000</td>\n",
       "      <td>0.000000</td>\n",
       "      <td>0.000000</td>\n",
       "      <td>0.000000</td>\n",
       "      <td>1.000000</td>\n",
       "      <td>0.000000</td>\n",
       "      <td>0.000000</td>\n",
       "      <td>0.000000</td>\n",
       "      <td>115.000000</td>\n",
       "    </tr>\n",
       "    <tr>\n",
       "      <th>max</th>\n",
       "      <td>1.255725e+06</td>\n",
       "      <td>60.000000</td>\n",
       "      <td>0.512290</td>\n",
       "      <td>0.497500</td>\n",
       "      <td>0.492500</td>\n",
       "      <td>0.319900</td>\n",
       "      <td>0.366000</td>\n",
       "      <td>0.283700</td>\n",
       "      <td>7.000000</td>\n",
       "      <td>11.000000</td>\n",
       "      <td>...</td>\n",
       "      <td>32.060000</td>\n",
       "      <td>0.000000</td>\n",
       "      <td>25000.000000</td>\n",
       "      <td>25000.000000</td>\n",
       "      <td>21117.900000</td>\n",
       "      <td>1.012500</td>\n",
       "      <td>39.000000</td>\n",
       "      <td>33.000000</td>\n",
       "      <td>25000.000000</td>\n",
       "      <td>1189.000000</td>\n",
       "    </tr>\n",
       "  </tbody>\n",
       "</table>\n",
       "<p>8 rows × 61 columns</p>\n",
       "</div>"
      ],
      "text/plain": [
       "       ListingNumber           Term    BorrowerAPR   BorrowerRate  \\\n",
       "count   1.139370e+05  113937.000000  113912.000000  113937.000000   \n",
       "mean    6.278857e+05      40.830248       0.218828       0.192764   \n",
       "std     3.280762e+05      10.436212       0.080364       0.074818   \n",
       "min     4.000000e+00      12.000000       0.006530       0.000000   \n",
       "25%     4.009190e+05      36.000000       0.156290       0.134000   \n",
       "50%     6.005540e+05      36.000000       0.209760       0.184000   \n",
       "75%     8.926340e+05      36.000000       0.283810       0.250000   \n",
       "max     1.255725e+06      60.000000       0.512290       0.497500   \n",
       "\n",
       "         LenderYield  EstimatedEffectiveYield  EstimatedLoss  EstimatedReturn  \\\n",
       "count  113937.000000             84853.000000   84853.000000     84853.000000   \n",
       "mean        0.182701                 0.168661       0.080306         0.096068   \n",
       "std         0.074516                 0.068467       0.046764         0.030403   \n",
       "min        -0.010000                -0.182700       0.004900        -0.182700   \n",
       "25%         0.124200                 0.115670       0.042400         0.074080   \n",
       "50%         0.173000                 0.161500       0.072400         0.091700   \n",
       "75%         0.240000                 0.224300       0.112000         0.116600   \n",
       "max         0.492500                 0.319900       0.366000         0.283700   \n",
       "\n",
       "       ProsperRating (numeric)  ProsperScore  ...  LP_ServiceFees  \\\n",
       "count             84853.000000  84853.000000  ...   113937.000000   \n",
       "mean                  4.072243      5.950067  ...      -54.725641   \n",
       "std                   1.673227      2.376501  ...       60.675425   \n",
       "min                   1.000000      1.000000  ...     -664.870000   \n",
       "25%                   3.000000      4.000000  ...      -73.180000   \n",
       "50%                   4.000000      6.000000  ...      -34.440000   \n",
       "75%                   5.000000      8.000000  ...      -13.920000   \n",
       "max                   7.000000     11.000000  ...       32.060000   \n",
       "\n",
       "       LP_CollectionFees  LP_GrossPrincipalLoss  LP_NetPrincipalLoss  \\\n",
       "count      113937.000000          113937.000000        113937.000000   \n",
       "mean          -14.242698             700.446342           681.420499   \n",
       "std           109.232758            2388.513831          2357.167068   \n",
       "min         -9274.750000             -94.200000          -954.550000   \n",
       "25%             0.000000               0.000000             0.000000   \n",
       "50%             0.000000               0.000000             0.000000   \n",
       "75%             0.000000               0.000000             0.000000   \n",
       "max             0.000000           25000.000000         25000.000000   \n",
       "\n",
       "       LP_NonPrincipalRecoverypayments  PercentFunded  Recommendations  \\\n",
       "count                    113937.000000  113937.000000    113937.000000   \n",
       "mean                         25.142686       0.998584         0.048027   \n",
       "std                         275.657937       0.017919         0.332353   \n",
       "min                           0.000000       0.700000         0.000000   \n",
       "25%                           0.000000       1.000000         0.000000   \n",
       "50%                           0.000000       1.000000         0.000000   \n",
       "75%                           0.000000       1.000000         0.000000   \n",
       "max                       21117.900000       1.012500        39.000000   \n",
       "\n",
       "       InvestmentFromFriendsCount  InvestmentFromFriendsAmount      Investors  \n",
       "count               113937.000000                113937.000000  113937.000000  \n",
       "mean                     0.023460                    16.550751      80.475228  \n",
       "std                      0.232412                   294.545422     103.239020  \n",
       "min                      0.000000                     0.000000       1.000000  \n",
       "25%                      0.000000                     0.000000       2.000000  \n",
       "50%                      0.000000                     0.000000      44.000000  \n",
       "75%                      0.000000                     0.000000     115.000000  \n",
       "max                     33.000000                 25000.000000    1189.000000  \n",
       "\n",
       "[8 rows x 61 columns]"
      ]
     },
     "execution_count": 5,
     "metadata": {},
     "output_type": "execute_result"
    }
   ],
   "source": [
    "#descriptive stats of the dataframe\n",
    "df.describe()"
   ]
  },
  {
   "cell_type": "code",
   "execution_count": 6,
   "id": "9934e817",
   "metadata": {
    "execution": {
     "iopub.execute_input": "2022-07-30T15:29:04.959146Z",
     "iopub.status.busy": "2022-07-30T15:29:04.958502Z",
     "iopub.status.idle": "2022-07-30T15:29:04.965141Z",
     "shell.execute_reply": "2022-07-30T15:29:04.964280Z"
    },
    "papermill": {
     "duration": 0.018392,
     "end_time": "2022-07-30T15:29:04.967341",
     "exception": false,
     "start_time": "2022-07-30T15:29:04.948949",
     "status": "completed"
    },
    "tags": []
   },
   "outputs": [
    {
     "data": {
      "text/plain": [
       "Index(['ListingKey', 'ListingNumber', 'ListingCreationDate', 'CreditGrade',\n",
       "       'Term', 'LoanStatus', 'ClosedDate', 'BorrowerAPR', 'BorrowerRate',\n",
       "       'LenderYield', 'EstimatedEffectiveYield', 'EstimatedLoss',\n",
       "       'EstimatedReturn', 'ProsperRating (numeric)', 'ProsperRating (Alpha)',\n",
       "       'ProsperScore', 'ListingCategory (numeric)', 'BorrowerState',\n",
       "       'Occupation', 'EmploymentStatus', 'EmploymentStatusDuration',\n",
       "       'IsBorrowerHomeowner', 'CurrentlyInGroup', 'GroupKey',\n",
       "       'DateCreditPulled', 'CreditScoreRangeLower', 'CreditScoreRangeUpper',\n",
       "       'FirstRecordedCreditLine', 'CurrentCreditLines', 'OpenCreditLines',\n",
       "       'TotalCreditLinespast7years', 'OpenRevolvingAccounts',\n",
       "       'OpenRevolvingMonthlyPayment', 'InquiriesLast6Months', 'TotalInquiries',\n",
       "       'CurrentDelinquencies', 'AmountDelinquent', 'DelinquenciesLast7Years',\n",
       "       'PublicRecordsLast10Years', 'PublicRecordsLast12Months',\n",
       "       'RevolvingCreditBalance', 'BankcardUtilization',\n",
       "       'AvailableBankcardCredit', 'TotalTrades',\n",
       "       'TradesNeverDelinquent (percentage)', 'TradesOpenedLast6Months',\n",
       "       'DebtToIncomeRatio', 'IncomeRange', 'IncomeVerifiable',\n",
       "       'StatedMonthlyIncome', 'LoanKey', 'TotalProsperLoans',\n",
       "       'TotalProsperPaymentsBilled', 'OnTimeProsperPayments',\n",
       "       'ProsperPaymentsLessThanOneMonthLate',\n",
       "       'ProsperPaymentsOneMonthPlusLate', 'ProsperPrincipalBorrowed',\n",
       "       'ProsperPrincipalOutstanding', 'ScorexChangeAtTimeOfListing',\n",
       "       'LoanCurrentDaysDelinquent', 'LoanFirstDefaultedCycleNumber',\n",
       "       'LoanMonthsSinceOrigination', 'LoanNumber', 'LoanOriginalAmount',\n",
       "       'LoanOriginationDate', 'LoanOriginationQuarter', 'MemberKey',\n",
       "       'MonthlyLoanPayment', 'LP_CustomerPayments',\n",
       "       'LP_CustomerPrincipalPayments', 'LP_InterestandFees', 'LP_ServiceFees',\n",
       "       'LP_CollectionFees', 'LP_GrossPrincipalLoss', 'LP_NetPrincipalLoss',\n",
       "       'LP_NonPrincipalRecoverypayments', 'PercentFunded', 'Recommendations',\n",
       "       'InvestmentFromFriendsCount', 'InvestmentFromFriendsAmount',\n",
       "       'Investors'],\n",
       "      dtype='object')"
      ]
     },
     "execution_count": 6,
     "metadata": {},
     "output_type": "execute_result"
    }
   ],
   "source": [
    "df.columns"
   ]
  },
  {
   "cell_type": "markdown",
   "id": "0df185e5",
   "metadata": {
    "papermill": {
     "duration": 0.007652,
     "end_time": "2022-07-30T15:29:04.983210",
     "exception": false,
     "start_time": "2022-07-30T15:29:04.975558",
     "status": "completed"
    },
    "tags": []
   },
   "source": [
    "# Replacing NAN variables with 0"
   ]
  },
  {
   "cell_type": "code",
   "execution_count": 7,
   "id": "fd4f4da5",
   "metadata": {
    "execution": {
     "iopub.execute_input": "2022-07-30T15:29:05.001490Z",
     "iopub.status.busy": "2022-07-30T15:29:05.001036Z",
     "iopub.status.idle": "2022-07-30T15:29:05.263603Z",
     "shell.execute_reply": "2022-07-30T15:29:05.262252Z"
    },
    "papermill": {
     "duration": 0.275361,
     "end_time": "2022-07-30T15:29:05.266530",
     "exception": false,
     "start_time": "2022-07-30T15:29:04.991169",
     "status": "completed"
    },
    "tags": []
   },
   "outputs": [],
   "source": [
    "df=df.fillna(0)"
   ]
  },
  {
   "cell_type": "markdown",
   "id": "1c0bf40d",
   "metadata": {
    "papermill": {
     "duration": 0.008403,
     "end_time": "2022-07-30T15:29:05.283258",
     "exception": false,
     "start_time": "2022-07-30T15:29:05.274855",
     "status": "completed"
    },
    "tags": []
   },
   "source": [
    "# Let's try to simplify the loan status feature variables : Predict variable (desired target)"
   ]
  },
  {
   "cell_type": "code",
   "execution_count": 8,
   "id": "97aeefc7",
   "metadata": {
    "execution": {
     "iopub.execute_input": "2022-07-30T15:29:05.301815Z",
     "iopub.status.busy": "2022-07-30T15:29:05.301421Z",
     "iopub.status.idle": "2022-07-30T15:29:05.330556Z",
     "shell.execute_reply": "2022-07-30T15:29:05.329452Z"
    },
    "papermill": {
     "duration": 0.041383,
     "end_time": "2022-07-30T15:29:05.332981",
     "exception": false,
     "start_time": "2022-07-30T15:29:05.291598",
     "status": "completed"
    },
    "tags": []
   },
   "outputs": [
    {
     "data": {
      "text/plain": [
       "Current                   56576\n",
       "Completed                 38074\n",
       "Chargedoff                11992\n",
       "Defaulted                  5018\n",
       "Past Due (1-15 days)        806\n",
       "Past Due (31-60 days)       363\n",
       "Past Due (61-90 days)       313\n",
       "Past Due (91-120 days)      304\n",
       "Past Due (16-30 days)       265\n",
       "FinalPaymentInProgress      205\n",
       "Past Due (>120 days)         16\n",
       "Cancelled                     5\n",
       "Name: LoanStatus, dtype: int64"
      ]
     },
     "execution_count": 8,
     "metadata": {},
     "output_type": "execute_result"
    }
   ],
   "source": [
    "df['LoanStatus'].value_counts()"
   ]
  },
  {
   "cell_type": "code",
   "execution_count": 9,
   "id": "2c737d90",
   "metadata": {
    "execution": {
     "iopub.execute_input": "2022-07-30T15:29:05.351540Z",
     "iopub.status.busy": "2022-07-30T15:29:05.351108Z",
     "iopub.status.idle": "2022-07-30T15:29:05.415278Z",
     "shell.execute_reply": "2022-07-30T15:29:05.414055Z"
    },
    "papermill": {
     "duration": 0.07682,
     "end_time": "2022-07-30T15:29:05.418090",
     "exception": false,
     "start_time": "2022-07-30T15:29:05.341270",
     "status": "completed"
    },
    "tags": []
   },
   "outputs": [],
   "source": [
    "# those are current, completed and cancelled are categorize as completed (1)otherwise defaulted(0)\n",
    "df['LoanStatus'] = np.where((df['LoanStatus'] == 'Current')|(df['LoanStatus'] == 'Completed')|(df['LoanStatus'] == 'Cancelled'), \n",
    "                         1, 0)"
   ]
  },
  {
   "cell_type": "code",
   "execution_count": 10,
   "id": "08e1c939",
   "metadata": {
    "execution": {
     "iopub.execute_input": "2022-07-30T15:29:05.436753Z",
     "iopub.status.busy": "2022-07-30T15:29:05.435994Z",
     "iopub.status.idle": "2022-07-30T15:29:05.654895Z",
     "shell.execute_reply": "2022-07-30T15:29:05.653715Z"
    },
    "papermill": {
     "duration": 0.231258,
     "end_time": "2022-07-30T15:29:05.657707",
     "exception": false,
     "start_time": "2022-07-30T15:29:05.426449",
     "status": "completed"
    },
    "tags": []
   },
   "outputs": [
    {
     "data": {
      "image/png": "[encoded data removed]",
      "text/plain": [
       "<Figure size 360x504 with 1 Axes>"
      ]
     },
     "metadata": {
      "needs_background": "light"
     },
     "output_type": "display_data"
    }
   ],
   "source": [
    "plt.figure(figsize=(5,7))\n",
    "#ploting \n",
    "ax=sns.countplot(x='LoanStatus', data=df, palette='BuPu' )\n",
    "plt.xlabel('Loan Status')\n",
    "plt.ylabel('Occurence')\n",
    "#annotating the percentage\n",
    "total = float(len(df))\n",
    "for p in ax.patches:\n",
    "    percentage = '{:.1f}%'.format(100 * p.get_height()/total)\n",
    "    x = p.get_x() + p.get_width()\n",
    "    y = p.get_height()\n",
    "    ax.annotate(percentage, (x, y),ha='right')\n",
    "plt.show()"
   ]
  },
  {
   "cell_type": "markdown",
   "id": "31ec1037",
   "metadata": {
    "papermill": {
     "duration": 0.009168,
     "end_time": "2022-07-30T15:29:05.675676",
     "exception": false,
     "start_time": "2022-07-30T15:29:05.666508",
     "status": "completed"
    },
    "tags": []
   },
   "source": [
    "# Extracting X and Y datasets"
   ]
  },
  {
   "cell_type": "code",
   "execution_count": 11,
   "id": "23d1a4a5",
   "metadata": {
    "execution": {
     "iopub.execute_input": "2022-07-30T15:29:05.696335Z",
     "iopub.status.busy": "2022-07-30T15:29:05.695259Z",
     "iopub.status.idle": "2022-07-30T15:29:05.803899Z",
     "shell.execute_reply": "2022-07-30T15:29:05.802510Z"
    },
    "papermill": {
     "duration": 0.122031,
     "end_time": "2022-07-30T15:29:05.807282",
     "exception": false,
     "start_time": "2022-07-30T15:29:05.685251",
     "status": "completed"
    },
    "tags": []
   },
   "outputs": [
    {
     "name": "stdout",
     "output_type": "stream",
     "text": [
      "1    83.076613\n",
      "0    16.923387\n",
      "Name: LoanStatus, dtype: float64\n",
      "1    83.076613\n",
      "0    16.923387\n",
      "Name: LoanStatus, dtype: float64\n"
     ]
    }
   ],
   "source": [
    "#extracting x and y from dataframe\n",
    "cells=['ListingNumber','LoanStatus','ListingKey','CreditGrade','ListingCreationDate','ClosedDate'\n",
    ",'ProsperRating (Alpha)','BorrowerState','Occupation','EmploymentStatus','GroupKey'\n",
    ",'DateCreditPulled','FirstRecordedCreditLine','IncomeRange','LoanKey','LoanOriginationDate'\n",
    ",'LoanOriginationQuarter','MemberKey' ]\n",
    "x=df.drop(columns=cells, axis=1)\n",
    "y=df['LoanStatus']\n",
    "print(y.value_counts(normalize=True)*100)\n",
    "print(y.value_counts(normalize=True)*100)"
   ]
  },
  {
   "cell_type": "markdown",
   "id": "258f27bc",
   "metadata": {
    "papermill": {
     "duration": 0.008453,
     "end_time": "2022-07-30T15:29:05.824449",
     "exception": false,
     "start_time": "2022-07-30T15:29:05.815996",
     "status": "completed"
    },
    "tags": []
   },
   "source": [
    "# Splitting the data to train and test"
   ]
  },
  {
   "cell_type": "code",
   "execution_count": 12,
   "id": "14332144",
   "metadata": {
    "execution": {
     "iopub.execute_input": "2022-07-30T15:29:05.845428Z",
     "iopub.status.busy": "2022-07-30T15:29:05.844228Z",
     "iopub.status.idle": "2022-07-30T15:29:05.963440Z",
     "shell.execute_reply": "2022-07-30T15:29:05.962261Z"
    },
    "papermill": {
     "duration": 0.13207,
     "end_time": "2022-07-30T15:29:05.965868",
     "exception": false,
     "start_time": "2022-07-30T15:29:05.833798",
     "status": "completed"
    },
    "tags": []
   },
   "outputs": [
    {
     "name": "stdout",
     "output_type": "stream",
     "text": [
      "(113937, 63) (91149, 63) (22788, 63)\n",
      "(113937,) (91149,) (22788,)\n",
      "1    83.077159\n",
      "0    16.922841\n",
      "Name: LoanStatus, dtype: float64\n",
      "1    83.074425\n",
      "0    16.925575\n",
      "Name: LoanStatus, dtype: float64\n"
     ]
    }
   ],
   "source": [
    "#spliting data to train and test\n",
    "x_train,x_test,y_train,y_test=train_test_split(x,y,test_size=0.2, random_state=1, stratify=y)\n",
    "print(x.shape,x_train.shape,x_test.shape)\n",
    "print(y.shape,y_train.shape,y_test.shape)\n",
    "print(y_train.value_counts(normalize=True)*100)\n",
    "print(y_test.value_counts(normalize=True)*100)"
   ]
  },
  {
   "cell_type": "code",
   "execution_count": 13,
   "id": "2c63cc2c",
   "metadata": {
    "_kg_hide-input": false,
    "_kg_hide-output": true,
    "execution": {
     "iopub.execute_input": "2022-07-30T15:29:05.984720Z",
     "iopub.status.busy": "2022-07-30T15:29:05.984323Z",
     "iopub.status.idle": "2022-07-30T15:29:09.188938Z",
     "shell.execute_reply": "2022-07-30T15:29:09.186493Z"
    },
    "papermill": {
     "duration": 3.221109,
     "end_time": "2022-07-30T15:29:09.195510",
     "exception": false,
     "start_time": "2022-07-30T15:29:05.974401",
     "status": "completed"
    },
    "tags": []
   },
   "outputs": [
    {
     "name": "stderr",
     "output_type": "stream",
     "text": [
      "/opt/conda/lib/python3.7/site-packages/sklearn/linear_model/_logistic.py:818: ConvergenceWarning: lbfgs failed to converge (status=1):\n",
      "STOP: TOTAL NO. of ITERATIONS REACHED LIMIT.\n",
      "\n",
      "Increase the number of iterations (max_iter) or scale the data as shown in:\n",
      "    https://scikit-learn.org/stable/modules/preprocessing.html\n",
      "Please also refer to the documentation for alternative solver options:\n",
      "    https://scikit-learn.org/stable/modules/linear_model.html#logistic-regression\n",
      "  extra_warning_msg=_LOGISTIC_SOLVER_CONVERGENCE_MSG,\n"
     ]
    },
    {
     "data": {
      "text/plain": [
       "LogisticRegression()"
      ]
     },
     "execution_count": 13,
     "metadata": {},
     "output_type": "execute_result"
    }
   ],
   "source": [
    "# Logistic Regression\n",
    "log_reg=LogisticRegression()\n",
    "log_reg.fit(x_train,y_train)"
   ]
  },
  {
   "cell_type": "code",
   "execution_count": 14,
   "id": "a09e043a",
   "metadata": {
    "execution": {
     "iopub.execute_input": "2022-07-30T15:29:09.235613Z",
     "iopub.status.busy": "2022-07-30T15:29:09.234792Z",
     "iopub.status.idle": "2022-07-30T15:29:09.248815Z",
     "shell.execute_reply": "2022-07-30T15:29:09.245972Z"
    },
    "papermill": {
     "duration": 0.036807,
     "end_time": "2022-07-30T15:29:09.252868",
     "exception": false,
     "start_time": "2022-07-30T15:29:09.216061",
     "status": "completed"
    },
    "tags": []
   },
   "outputs": [
    {
     "name": "stdout",
     "output_type": "stream",
     "text": [
      "[[ 4.22452642e-04  1.57320042e-07  2.64628800e-07  1.99629247e-07\n",
      "  -1.64255964e-06 -8.73881889e-07 -5.73800562e-07  2.06844673e-06\n",
      "  -2.94738809e-06 -2.88828615e-05  8.37868933e-05  1.35896134e-06\n",
      "   4.27870827e-06  4.10122610e-03  4.22874548e-03  1.37784681e-05\n",
      "   1.20167441e-05  9.13838198e-05  4.03187082e-05  1.13128101e-03\n",
      "   3.54212743e-06  2.03747735e-05  6.05245421e-06 -6.32392397e-06\n",
      "   1.81118865e-05  6.43750618e-07 -7.77427461e-08 -7.41171424e-06\n",
      "   1.03003940e-06 -9.92172426e-06  1.25901214e-06  1.18500793e-06\n",
      "  -6.00925994e-06  2.30291224e-06  7.67880863e-06 -1.93175413e-06\n",
      "  -2.05617496e-07 -1.27406002e-06  8.63978193e-06 -9.08861024e-06\n",
      "  -8.33989878e-07 -8.90916883e-06 -4.13986257e-05  1.10824659e-04\n",
      "  -1.56188658e-02 -3.81059139e-04  8.63354217e-04 -2.40918014e-05\n",
      "   1.06910412e-04 -1.28243402e-03 -2.14884975e-04  4.41680551e-04\n",
      "  -6.56565526e-04  8.16459367e-05  3.44385712e-03 -3.57214268e-02\n",
      "  -3.33348052e-02 -1.63911041e-03  7.33714411e-06  1.32672068e-06\n",
      "   7.58620380e-07  2.71799195e-04 -5.05772664e-04]]\n",
      "\n",
      " [7.31852925e-06]\n"
     ]
    }
   ],
   "source": [
    "# Show to Coeficient and Intercept\n",
    "print(log_reg.coef_)\n",
    "print(\"\\n\",log_reg.intercept_)"
   ]
  },
  {
   "cell_type": "markdown",
   "id": "21f7da54",
   "metadata": {
    "papermill": {
     "duration": 0.016752,
     "end_time": "2022-07-30T15:29:09.286224",
     "exception": false,
     "start_time": "2022-07-30T15:29:09.269472",
     "status": "completed"
    },
    "tags": []
   },
   "source": [
    "# Performing prediction using the test dataset"
   ]
  },
  {
   "cell_type": "code",
   "execution_count": 15,
   "id": "2f9f2e34",
   "metadata": {
    "execution": {
     "iopub.execute_input": "2022-07-30T15:29:09.308481Z",
     "iopub.status.busy": "2022-07-30T15:29:09.308052Z",
     "iopub.status.idle": "2022-07-30T15:29:09.528533Z",
     "shell.execute_reply": "2022-07-30T15:29:09.526663Z"
    },
    "papermill": {
     "duration": 0.237193,
     "end_time": "2022-07-30T15:29:09.534902",
     "exception": false,
     "start_time": "2022-07-30T15:29:09.297709",
     "status": "completed"
    },
    "tags": []
   },
   "outputs": [],
   "source": [
    "y_pred=log_reg.predict(x_test)\n"
   ]
  },
  {
   "cell_type": "code",
   "execution_count": 16,
   "id": "ff0726f7",
   "metadata": {
    "execution": {
     "iopub.execute_input": "2022-07-30T15:29:09.573686Z",
     "iopub.status.busy": "2022-07-30T15:29:09.572800Z",
     "iopub.status.idle": "2022-07-30T15:29:09.821766Z",
     "shell.execute_reply": "2022-07-30T15:29:09.820457Z"
    },
    "papermill": {
     "duration": 0.272721,
     "end_time": "2022-07-30T15:29:09.825636",
     "exception": false,
     "start_time": "2022-07-30T15:29:09.552915",
     "status": "completed"
    },
    "tags": []
   },
   "outputs": [
    {
     "name": "stdout",
     "output_type": "stream",
     "text": [
      "0.9800333508864315\n"
     ]
    }
   ],
   "source": [
    "test_score=log_reg.score(x_test,y_test)\n",
    "print(test_score)"
   ]
  },
  {
   "cell_type": "code",
   "execution_count": 17,
   "id": "ae776f05",
   "metadata": {
    "execution": {
     "iopub.execute_input": "2022-07-30T15:29:09.862369Z",
     "iopub.status.busy": "2022-07-30T15:29:09.861774Z",
     "iopub.status.idle": "2022-07-30T15:29:09.938622Z",
     "shell.execute_reply": "2022-07-30T15:29:09.937340Z"
    },
    "papermill": {
     "duration": 0.098974,
     "end_time": "2022-07-30T15:29:09.941993",
     "exception": false,
     "start_time": "2022-07-30T15:29:09.843019",
     "status": "completed"
    },
    "tags": []
   },
   "outputs": [
    {
     "name": "stdout",
     "output_type": "stream",
     "text": [
      "              precision    recall  f1-score   support\n",
      "\n",
      "           0       0.99      0.89      0.94      3857\n",
      "           1       0.98      1.00      0.99     18931\n",
      "\n",
      "    accuracy                           0.98     22788\n",
      "   macro avg       0.99      0.94      0.96     22788\n",
      "weighted avg       0.98      0.98      0.98     22788\n",
      "\n"
     ]
    }
   ],
   "source": [
    "print(classification_report(y_test, y_pred))"
   ]
  },
  {
   "cell_type": "markdown",
   "id": "1b760b4e",
   "metadata": {
    "papermill": {
     "duration": 0.00939,
     "end_time": "2022-07-30T15:29:09.961245",
     "exception": false,
     "start_time": "2022-07-30T15:29:09.951855",
     "status": "completed"
    },
    "tags": []
   },
   "source": [
    "# Display the confusion Matrix"
   ]
  },
  {
   "cell_type": "code",
   "execution_count": 18,
   "id": "cc0bce97",
   "metadata": {
    "execution": {
     "iopub.execute_input": "2022-07-30T15:29:09.982346Z",
     "iopub.status.busy": "2022-07-30T15:29:09.981657Z",
     "iopub.status.idle": "2022-07-30T15:29:09.993303Z",
     "shell.execute_reply": "2022-07-30T15:29:09.992120Z"
    },
    "papermill": {
     "duration": 0.025278,
     "end_time": "2022-07-30T15:29:09.996003",
     "exception": false,
     "start_time": "2022-07-30T15:29:09.970725",
     "status": "completed"
    },
    "tags": []
   },
   "outputs": [],
   "source": [
    "from sklearn.metrics import confusion_matrix\n",
    "con_matrix = confusion_matrix(y_test, y_pred)"
   ]
  },
  {
   "cell_type": "code",
   "execution_count": 19,
   "id": "eb46b471",
   "metadata": {
    "execution": {
     "iopub.execute_input": "2022-07-30T15:29:10.016289Z",
     "iopub.status.busy": "2022-07-30T15:29:10.015523Z",
     "iopub.status.idle": "2022-07-30T15:29:10.218338Z",
     "shell.execute_reply": "2022-07-30T15:29:10.217210Z"
    },
    "papermill": {
     "duration": 0.215376,
     "end_time": "2022-07-30T15:29:10.220687",
     "exception": false,
     "start_time": "2022-07-30T15:29:10.005311",
     "status": "completed"
    },
    "tags": []
   },
   "outputs": [
    {
     "data": {
      "image/png": "[encoded data removed]",
      "text/plain": [
       "<Figure size 576x576 with 2 Axes>"
      ]
     },
     "metadata": {
      "needs_background": "light"
     },
     "output_type": "display_data"
    }
   ],
   "source": [
    "plt.figure(figsize=(8,8))\n",
    "sns.heatmap(con_matrix, annot=True, fmt=\".3f\", linewidths=.5, square = True, cmap = 'BuGn_r');\n",
    "plt.ylabel('Actual label');\n",
    "plt.xlabel('Predicted label');\n",
    "all_sample_title = 'Accuracy Score: {0}'.format(test_score)\n",
    "plt.title(all_sample_title, size = 15);"
   ]
  }
 ],
 "metadata": {
  "kernelspec": {
   "display_name": "Python 3",
   "language": "python",
   "name": "python3"
  },
  "language_info": {
   "codemirror_mode": {
    "name": "ipython",
    "version": 3
   },
   "file_extension": ".py",
   "mimetype": "text/x-python",
   "name": "python",
   "nbconvert_exporter": "python",
   "pygments_lexer": "ipython3",
   "version": "3.7.12"
  },
  "papermill": {
   "default_parameters": {},
   "duration": 22.668123,
   "end_time": "2022-07-30T15:29:11.053828",
   "environment_variables": {},
   "exception": null,
   "input_path": "__notebook__.ipynb",
   "output_path": "__notebook__.ipynb",
   "parameters": {},
   "start_time": "2022-07-30T15:28:48.385705",
   "version": "2.3.4"
  }
 },
 "nbformat": 4,
 "nbformat_minor": 5
}
